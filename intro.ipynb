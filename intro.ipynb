{
  "nbformat": 4,
  "nbformat_minor": 0,
  "metadata": {
    "colab": {
      "provenance": [],
      "authorship_tag": "ABX9TyPvfYC2KVnyP68LXwDxev2k",
      "include_colab_link": true
    },
    "kernelspec": {
      "name": "python3",
      "display_name": "Python 3"
    },
    "language_info": {
      "name": "python"
    }
  },
  "cells": [
    {
      "cell_type": "markdown",
      "metadata": {
        "id": "view-in-github",
        "colab_type": "text"
      },
      "source": [
        "<a href=\"https://colab.research.google.com/github/Tomek236/Colab-google/blob/master/intro.ipynb\" target=\"_parent\"><img src=\"https://colab.research.google.com/assets/colab-badge.svg\" alt=\"Open In Colab\"/></a>"
      ]
    },
    {
      "cell_type": "code",
      "execution_count": 1,
      "metadata": {
        "id": "8RIX9ktsfgKz",
        "colab": {
          "base_uri": "https://localhost:8080/"
        },
        "outputId": "18724239-aa9a-4fb0-a7cf-ae69a2266066"
      },
      "outputs": [
        {
          "output_type": "stream",
          "name": "stdout",
          "text": [
            "Hello Colab\n"
          ]
        }
      ],
      "source": [
        "print(\"Hello Colab\")"
      ]
    },
    {
      "cell_type": "code",
      "source": [],
      "metadata": {
        "id": "FtBlr3Wuf0WI"
      },
      "execution_count": null,
      "outputs": []
    },
    {
      "cell_type": "markdown",
      "source": [
        "Witam serdecznie"
      ],
      "metadata": {
        "id": "58Zol59hf_hw"
      }
    },
    {
      "cell_type": "code",
      "source": [],
      "metadata": {
        "id": "HHZjAyFrgCTa"
      },
      "execution_count": null,
      "outputs": []
    }
  ]
}